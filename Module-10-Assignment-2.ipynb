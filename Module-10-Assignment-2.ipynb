{
 "cells": [
  {
   "cell_type": "code",
   "execution_count": 14,
   "metadata": {},
   "outputs": [
    {
     "data": {
      "text/plain": [
       "\"\\nAnd for Multi-line comment we can use `` or  `''''''`,\\nlike I use in this case.\\n\""
      ]
     },
     "execution_count": 14,
     "metadata": {},
     "output_type": "execute_result"
    }
   ],
   "source": [
    "# Q1\n",
    "# For Single line comment we use \"#\" at the starting of the line\n",
    "\"\"\"\n",
    "And for Multi-line comment we can use `\"\"\"\"\"\"` or  `''''''`,\n",
    "like I use in this case.\n",
    "\"\"\""
   ]
  },
  {
   "cell_type": "code",
   "execution_count": 15,
   "metadata": {},
   "outputs": [],
   "source": [
    "# Q2\n",
    "\"\"\"\n",
    "In Python, variables are used to store data values. \n",
    "Unlike some other programming languages, Python doesn't \n",
    "require you to explicitly declare the type of a variable. \n",
    "The type of the variable is inferred from the value assigned to it.\n",
    "\"\"\"\n",
    "\n",
    "'''\n",
    "To declare and assign values to variables in Python,\n",
    "we simply use the variable name followed by \n",
    "the assignment operator (=) and the value we want to assign to it\n",
    "'''\n",
    "a=1\n",
    "name=\"Subha\"\n",
    "is_good=True\n",
    "# another way to store the value\n",
    "x,y,z=10,\"Subha\",False"
   ]
  },
  {
   "cell_type": "code",
   "execution_count": 16,
   "metadata": {},
   "outputs": [
    {
     "name": "stdout",
     "output_type": "stream",
     "text": [
      "7\n",
      "10.0\n",
      "{'a': 1, 'b': 2, 'c': 3}\n",
      "{'l', 'e', 'o', 'h'}\n",
      "False\n"
     ]
    }
   ],
   "source": [
    "# Q3\n",
    "\"\"\"\n",
    "In Python, you can convert one data type \n",
    "to another using type conversion functions or constructors. \n",
    "Here are some commonly used methods for type conversion:\n",
    "1. str(), 2. float(), 3. bool(), 4. str(),\n",
    "5. list(), 6. tuple(), 7. dict(), 8. set()\n",
    "\"\"\"\n",
    "a=7.8\n",
    "b=int(a)\n",
    "print(b)\n",
    "\n",
    "x=10\n",
    "y=float(x)\n",
    "print(y)\n",
    "\n",
    "x = [(\"a\", 1), (\"b\", 2), (\"c\", 3)]\n",
    "y = dict(x)\n",
    "print(y)  # Output: {'a': 1, 'b': 2, 'c': 3}\n",
    "\n",
    "x = \"hello\"\n",
    "y = set(x)\n",
    "print(y)  # Output: {'h', 'e', 'l', 'o'}\n",
    "\n",
    "x = 0\n",
    "y = bool(x)\n",
    "print(y)  # Output: False\n"
   ]
  },
  {
   "cell_type": "code",
   "execution_count": 17,
   "metadata": {},
   "outputs": [
    {
     "data": {
      "text/plain": [
       "'\\nWrite your Python code: Use a text editor to write your Python code and save it with a .py extension.\\nOpen a terminal or command prompt: Open a terminal (Linux/macOS) or command prompt (Windows).\\nNavigate to the directory containing the script: Use the cd command to navigate to the directory where your Python script is saved.\\nExecute the Python script: Run the command python script_name.py, replacing script_name.py with the name of your Python script.\\n'"
      ]
     },
     "execution_count": 17,
     "metadata": {},
     "output_type": "execute_result"
    }
   ],
   "source": [
    "# Q4\n",
    "\"\"\"\n",
    "Write your Python code: Use a text editor to write your Python code and save it with a .py extension.\n",
    "Open a terminal or command prompt: Open a terminal (Linux/macOS) or command prompt (Windows).\n",
    "Navigate to the directory containing the script: Use the cd command to navigate to the directory where your Python script is saved.\n",
    "Execute the Python script: Run the command python script_name.py, replacing script_name.py with the name of your Python script.\n",
    "\"\"\""
   ]
  },
  {
   "cell_type": "code",
   "execution_count": 18,
   "metadata": {},
   "outputs": [
    {
     "name": "stdout",
     "output_type": "stream",
     "text": [
      "[2, 3]\n"
     ]
    }
   ],
   "source": [
    "# Q5\n",
    "my_list = [1, 2, 3, 4, 5]\n",
    "sub_list = my_list[1:3]\n",
    "print(sub_list)  # Output: [2, 3]\n"
   ]
  },
  {
   "cell_type": "code",
   "execution_count": 19,
   "metadata": {},
   "outputs": [
    {
     "name": "stdout",
     "output_type": "stream",
     "text": [
      "(3+4j)\n",
      "(3+4j)\n"
     ]
    }
   ],
   "source": [
    "# Q6\n",
    "z = complex(3, 4)  # 3 + 4i\n",
    "print(z)  \n",
    "\n",
    "z=3+4j # 3 + 4i\n",
    "print(z)\n"
   ]
  },
  {
   "cell_type": "code",
   "execution_count": 20,
   "metadata": {},
   "outputs": [
    {
     "name": "stdout",
     "output_type": "stream",
     "text": [
      "My age is  25\n"
     ]
    }
   ],
   "source": [
    "# Q7\n",
    "age=25\n",
    "print(\"My age is \",age)"
   ]
  },
  {
   "cell_type": "code",
   "execution_count": 21,
   "metadata": {},
   "outputs": [
    {
     "name": "stdout",
     "output_type": "stream",
     "text": [
      "<class 'float'>\n"
     ]
    }
   ],
   "source": [
    "# Q8\n",
    "price=9.99\n",
    "print(type(price))"
   ]
  },
  {
   "cell_type": "code",
   "execution_count": 22,
   "metadata": {},
   "outputs": [
    {
     "name": "stdout",
     "output_type": "stream",
     "text": [
      "Subhadeep\n"
     ]
    }
   ],
   "source": [
    "# Q9\n",
    "name=\"Subhadeep\"\n",
    "print(name)"
   ]
  },
  {
   "cell_type": "code",
   "execution_count": 23,
   "metadata": {},
   "outputs": [
    {
     "data": {
      "text/plain": [
       "'World'"
      ]
     },
     "execution_count": 23,
     "metadata": {},
     "output_type": "execute_result"
    }
   ],
   "source": [
    "# Q10\n",
    "v=\"Hello, World!\"\n",
    "v[7:12]"
   ]
  },
  {
   "cell_type": "code",
   "execution_count": 24,
   "metadata": {},
   "outputs": [
    {
     "name": "stdout",
     "output_type": "stream",
     "text": [
      "False\n"
     ]
    }
   ],
   "source": [
    "# Q11\n",
    "is_student=False\n",
    "print(is_student)"
   ]
  },
  {
   "cell_type": "code",
   "execution_count": null,
   "metadata": {},
   "outputs": [],
   "source": []
  }
 ],
 "metadata": {
  "kernelspec": {
   "display_name": "base",
   "language": "python",
   "name": "python3"
  },
  "language_info": {
   "codemirror_mode": {
    "name": "ipython",
    "version": 3
   },
   "file_extension": ".py",
   "mimetype": "text/x-python",
   "name": "python",
   "nbconvert_exporter": "python",
   "pygments_lexer": "ipython3",
   "version": "3.9.13"
  }
 },
 "nbformat": 4,
 "nbformat_minor": 2
}
