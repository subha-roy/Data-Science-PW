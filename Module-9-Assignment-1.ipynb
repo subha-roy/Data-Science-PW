{
 "cells": [
  {
   "cell_type": "code",
   "execution_count": 1,
   "metadata": {},
   "outputs": [],
   "source": [
    "#Q1\n",
    "v1 = 'Jay'\n",
    "v2 = ['DS', 'Ml', 'Python']\n",
    "v3 = 3.123\n",
    "v4 = (\"Apple\", \"Mango\", \"Banana\")\n"
   ]
  },
  {
   "cell_type": "code",
   "execution_count": 3,
   "metadata": {},
   "outputs": [
    {
     "name": "stdout",
     "output_type": "stream",
     "text": [
      "Data type: <class 'str'>\n",
      "Data type: <class 'str'>\n",
      "Data type: <class 'list'>\n",
      "Data type: <class 'int'>\n"
     ]
    }
   ],
   "source": [
    "#Q2\n",
    "var1=\"\"\n",
    "var2='[DS, ML, Python]'\n",
    "var3=['DS', 'Ml', 'Python']\n",
    "var4=1\n",
    "\n",
    "variables=[var1,var2,var3,var4]\n",
    "for i in variables:\n",
    "    print(f\"Data type: {type(i)}\")\n"
   ]
  },
  {
   "cell_type": "code",
   "execution_count": 4,
   "metadata": {},
   "outputs": [],
   "source": [
    "#Q3\n",
    "#i--> /=> to divise\n",
    "#ii--> %=> to get the reminder\n",
    "#iii--> //=> for floor division or interger division\n",
    "#iv--> **=> square power\n"
   ]
  },
  {
   "cell_type": "code",
   "execution_count": 10,
   "metadata": {},
   "outputs": [
    {
     "name": "stdout",
     "output_type": "stream",
     "text": [
      "element:1\n",
      "data type: <class 'int'>\n",
      "==========\n",
      "element:2\n",
      "data type: <class 'int'>\n",
      "==========\n",
      "element:23.43\n",
      "data type: <class 'float'>\n",
      "==========\n",
      "element:pyhton\n",
      "data type: <class 'str'>\n",
      "==========\n",
      "element:DS\n",
      "data type: <class 'str'>\n",
      "==========\n",
      "element:True\n",
      "data type: <class 'bool'>\n",
      "==========\n",
      "element:ML\n",
      "data type: <class 'str'>\n",
      "==========\n",
      "element:False\n",
      "data type: <class 'bool'>\n",
      "==========\n",
      "element:NN\n",
      "data type: <class 'str'>\n",
      "==========\n",
      "element:(3+4j)\n",
      "data type: <class 'complex'>\n",
      "==========\n"
     ]
    }
   ],
   "source": [
    "#Q4\n",
    "a = [1,2,23.43, 'pyhton', 'DS', True, 'ML', False, 'NN', 3+4j]\n",
    "for i in a:\n",
    "    print(f\"element:{i}\\ndata type: {type(i)}\")\n",
    "    print(\"=\"*10)"
   ]
  },
  {
   "cell_type": "code",
   "execution_count": null,
   "metadata": {},
   "outputs": [],
   "source": [
    "#Q5\n",
    "A=88\n",
    "B=2\n",
    "counter = 0\n",
    "while (A % B) == 0:\n",
    "    A //= B\n",
    "    counter += 1\n",
    "print(counter)    "
   ]
  },
  {
   "cell_type": "code",
   "execution_count": 15,
   "metadata": {},
   "outputs": [
    {
     "name": "stdout",
     "output_type": "stream",
     "text": [
      "3\n",
      "6\n",
      "9\n",
      "12\n",
      "15\n",
      "18\n",
      "21\n",
      "24\n",
      "Count:  8\n"
     ]
    }
   ],
   "source": [
    "#Q6\n",
    "l = list(range(1,27))\n",
    "a=[]\n",
    "for i in l:\n",
    "    if i%3==0:\n",
    "        print(i)\n",
    "        a.append(i)\n",
    "print(\"Count: \",len(a))"
   ]
  },
  {
   "cell_type": "code",
   "execution_count": 1,
   "metadata": {},
   "outputs": [
    {
     "data": {
      "text/plain": [
       "[1, 2, 3, 'Jay', 'Subha', 'Python', (3+4j)]"
      ]
     },
     "execution_count": 1,
     "metadata": {},
     "output_type": "execute_result"
    }
   ],
   "source": [
    "#Q7\n",
    "'''\n",
    "mutability means when u can change a particular data at a particular \n",
    "index but when u try to change a data or specifically string, \n",
    "eg. 'Subho' instead of 'Subha' u can't change it-- imutability\n",
    "String is imutable object, where as list is mutable object\n",
    "'''\n",
    "#e.g. of mutable data\n",
    "l = [1,2,3,4,\"Subha\", \"Python\", 3+4j]\n",
    "l[3] = \"Jay\"\n",
    "l\n",
    "\n"
   ]
  },
  {
   "cell_type": "code",
   "execution_count": null,
   "metadata": {},
   "outputs": [],
   "source": []
  }
 ],
 "metadata": {
  "kernelspec": {
   "display_name": "base",
   "language": "python",
   "name": "python3"
  },
  "language_info": {
   "codemirror_mode": {
    "name": "ipython",
    "version": 3
   },
   "file_extension": ".py",
   "mimetype": "text/x-python",
   "name": "python",
   "nbconvert_exporter": "python",
   "pygments_lexer": "ipython3",
   "version": "3.9.13"
  }
 },
 "nbformat": 4,
 "nbformat_minor": 2
}
